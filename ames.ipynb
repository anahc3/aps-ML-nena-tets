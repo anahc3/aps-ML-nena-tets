{
 "cells": [
  {
   "cell_type": "code",
   "execution_count": null,
   "metadata": {},
   "outputs": [],
   "source": [
    "import pickle\n",
    "import pathlib\n",
    "\n",
    "import pandas as pd\n",
    "import numpy as np\n",
    "from sklearn.model_selection import train_test_split\n",
    "from sklearn.preprocessing import StandardScaler, OneHotEncoder\n",
    "from sklearn.compose import ColumnTransformer\n",
    "from sklearn.pipeline import Pipeline\n",
    "from sklearn.linear_model import LinearRegression, Ridge, Lasso\n",
    "from sklearn.tree import DecisionTreeRegressor\n",
    "from sklearn.ensemble import RandomForestRegressor\n",
    "from sklearn.model_selection import GridSearchCV\n",
    "from sklearn.metrics import mean_absolute_error, mean_squared_error, r2_score\n",
    "import seaborn as sns\n",
    "import matplotlib.pyplot as plt"
   ]
  },
  {
   "cell_type": "code",
   "execution_count": 7,
   "metadata": {},
   "outputs": [],
   "source": [
    "DATA_DIR = pathlib.Path.cwd().parent / 'aps-ML-nena-tets' / 'data'\n",
    "clean_data_path = DATA_DIR / 'processed' / 'ames_clean.pkl'\n",
    "\n",
    "with open(clean_data_path, 'rb') as file:\n",
    "    data = pickle.load(file)\n",
    "\n",
    "model_data = data.copy()"
   ]
  },
  {
   "cell_type": "code",
   "execution_count": 9,
   "metadata": {},
   "outputs": [
    {
     "name": "stdout",
     "output_type": "stream",
     "text": [
      "  MS.SubClass MS.Zoning  Lot.Frontage  Lot.Area Lot.Shape Land.Contour  \\\n",
      "0          20        RL         141.0   31770.0       IR1          Lvl   \n",
      "1          20        RH          80.0   11622.0       Reg          Lvl   \n",
      "2          20        RL          81.0   14267.0       IR1          Lvl   \n",
      "3          20        RL          93.0   11160.0       Reg          Lvl   \n",
      "4          60        RL          74.0   13830.0       IR1          Lvl   \n",
      "\n",
      "  Lot.Config Land.Slope Neighborhood Bldg.Type  ...  Sale.Type Sale.Condition  \\\n",
      "0     Corner        Gtl        NAmes      1Fam  ...  GroupedWD         Normal   \n",
      "1     Inside        Gtl        NAmes      1Fam  ...  GroupedWD         Normal   \n",
      "2     Corner        Gtl        NAmes      1Fam  ...  GroupedWD         Normal   \n",
      "3     Corner        Gtl        NAmes      1Fam  ...  GroupedWD         Normal   \n",
      "4     Inside        Gtl      Gilbert      1Fam  ...  GroupedWD         Normal   \n",
      "\n",
      "  SalePrice Condition HasShed  HasAlley Exterior Garage.Age Remod.Age  \\\n",
      "0  5.332438      Norm   False     False  BrkFace       50.0      50.0   \n",
      "1  5.021189     Roads   False     False  VinylSd       49.0      49.0   \n",
      "2  5.235528      Norm   False     False  Wd Sdng       52.0      52.0   \n",
      "3  5.387390      Norm   False     False  BrkFace       42.0      42.0   \n",
      "4  5.278525      Norm   False     False  VinylSd       13.0      12.0   \n",
      "\n",
      "  House.Age  \n",
      "0      50.0  \n",
      "1      49.0  \n",
      "2      52.0  \n",
      "3      42.0  \n",
      "4      13.0  \n",
      "\n",
      "[5 rows x 70 columns]\n"
     ]
    }
   ],
   "source": [
    "print(model_data.head())"
   ]
  },
  {
   "cell_type": "code",
   "execution_count": null,
   "metadata": {},
   "outputs": [
    {
     "name": "stdout",
     "output_type": "stream",
     "text": [
      "Treino - MAE: 0.030285174650185293\n",
      "Treino - RMSE: 0.04541472229192995\n",
      "Treino - R²: 0.9310654624466183\n",
      "\n",
      "Teste - MAE: 0.034072410411970774\n",
      "Teste - RMSE: 0.05932517888682991\n",
      "Teste - R²: 0.8808017679548166\n",
      "\n"
     ]
    }
   ],
   "source": [
    "X = model_data.drop(columns='SalePrice') \n",
    "y = model_data['SalePrice']  \n",
    "\n",
    "categorical_cols = X.select_dtypes(include=['category']).columns\n",
    "numerical_cols = X.select_dtypes(include=['float64', 'int64']).columns\n",
    "boolean_cols = X.select_dtypes(include=['bool']).columns\n",
    "\n",
    "X[boolean_cols] = X[boolean_cols].astype(int)\n",
    "\n",
    "X[categorical_cols] = X[categorical_cols].astype(str)\n",
    "\n",
    "preprocessor = ColumnTransformer(\n",
    "    transformers=[\n",
    "        ('num', StandardScaler(), numerical_cols), \n",
    "        ('cat', OneHotEncoder(handle_unknown='ignore'), categorical_cols) \n",
    "    ]\n",
    ")\n",
    "\n",
    "pipeline_lr = Pipeline(steps=[\n",
    "    ('preprocessor', preprocessor),\n",
    "    ('regressor', LinearRegression())\n",
    "])\n",
    "\n",
    "X_train, X_test, y_train, y_test = train_test_split(X, y, test_size=0.2, random_state=42)\n",
    "\n",
    "pipeline_lr.fit(X_train, y_train)\n",
    "\n",
    "y_train_pred = pipeline_lr.predict(X_train)\n",
    "y_test_pred = pipeline_lr.predict(X_test)\n",
    "\n",
    "print(f'Treino - MAE: {mean_absolute_error(y_train, y_train_pred)}')\n",
    "print(f'Treino - RMSE: {np.sqrt(mean_squared_error(y_train, y_train_pred))}')\n",
    "print(f'Treino - R²: {r2_score(y_train, y_train_pred)}\\n')\n",
    "\n",
    "print(f'Teste - MAE: {mean_absolute_error(y_test, y_test_pred)}')\n",
    "print(f'Teste - RMSE: {np.sqrt(mean_squared_error(y_test, y_test_pred))}')\n",
    "print(f'Teste - R²: {r2_score(y_test, y_test_pred)}\\n')"
   ]
  }
 ],
 "metadata": {
  "kernelspec": {
   "display_name": ".venv",
   "language": "python",
   "name": "python3"
  },
  "language_info": {
   "codemirror_mode": {
    "name": "ipython",
    "version": 3
   },
   "file_extension": ".py",
   "mimetype": "text/x-python",
   "name": "python",
   "nbconvert_exporter": "python",
   "pygments_lexer": "ipython3",
   "version": "3.11.4"
  }
 },
 "nbformat": 4,
 "nbformat_minor": 2
}
